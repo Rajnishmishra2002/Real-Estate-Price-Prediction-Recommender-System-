{
 "cells": [
  {
   "cell_type": "code",
   "execution_count": null,
   "id": "ecaeed59-81e6-4d40-9cde-2cb308a7e368",
   "metadata": {},
   "outputs": [],
   "source": [
    "pip uninstall pandas-profiling\n"
   ]
  },
  {
   "cell_type": "code",
   "execution_count": null,
   "id": "f8ed0c4e-728b-4182-a0cc-1b0dec69f1e4",
   "metadata": {},
   "outputs": [],
   "source": [
    "pip install ydata-profiling\n"
   ]
  },
  {
   "cell_type": "code",
   "execution_count": null,
   "id": "43a83fa9-d67d-4395-9bbe-c82921804c09",
   "metadata": {},
   "outputs": [],
   "source": [
    "from ydata_profiling import ProfileReport\n",
    "import pandas as pd\n",
    "\n",
    "# Example DataFrame\n",
    "df = pd.read_csv(\"../Data/gurgaon_properties_cleaned_v2.csv\")\n",
    "\n",
    "# Generate profile\n",
    "profile = ProfileReport(df, title=\"Pandas Profiling Report\", explorative=True)\n",
    "profile.to_file(\"report.html\")\n",
    "\n"
   ]
  },
  {
   "cell_type": "code",
   "execution_count": null,
   "id": "3f082438-dfd7-4de5-93f3-08d3796644c9",
   "metadata": {},
   "outputs": [],
   "source": []
  }
 ],
 "metadata": {
  "kernelspec": {
   "display_name": "Python 3 (ipykernel)",
   "language": "python",
   "name": "python3"
  },
  "language_info": {
   "codemirror_mode": {
    "name": "ipython",
    "version": 3
   },
   "file_extension": ".py",
   "mimetype": "text/x-python",
   "name": "python",
   "nbconvert_exporter": "python",
   "pygments_lexer": "ipython3",
   "version": "3.12.7"
  }
 },
 "nbformat": 4,
 "nbformat_minor": 5
}
