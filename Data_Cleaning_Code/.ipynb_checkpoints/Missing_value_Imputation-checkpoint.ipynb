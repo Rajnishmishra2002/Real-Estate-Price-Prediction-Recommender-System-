{
 "cells": [
  {
   "cell_type": "code",
   "execution_count": 82,
   "id": "6ca90597-7e8e-4413-82e7-ee6f3220cde6",
   "metadata": {},
   "outputs": [],
   "source": [
    "import pandas as pd \n",
    "import seaborn as sns\n",
    "import matplotlib.pyplot as plt "
   ]
  },
  {
   "cell_type": "code",
   "execution_count": 84,
   "id": "1c85eb5d-f56d-41dd-b864-97748dd5884e",
   "metadata": {},
   "outputs": [],
   "source": [
    "df =pd.read_csv('../Data/gurgaon_properties_cleaned_v2.csv')"
   ]
  },
  {
   "cell_type": "code",
   "execution_count": 86,
   "id": "98f52f57-e15b-4e2c-9f5e-e9abff0e9382",
   "metadata": {},
   "outputs": [
    {
     "data": {
      "text/html": [
       "<div>\n",
       "<style scoped>\n",
       "    .dataframe tbody tr th:only-of-type {\n",
       "        vertical-align: middle;\n",
       "    }\n",
       "\n",
       "    .dataframe tbody tr th {\n",
       "        vertical-align: top;\n",
       "    }\n",
       "\n",
       "    .dataframe thead th {\n",
       "        text-align: right;\n",
       "    }\n",
       "</style>\n",
       "<table border=\"1\" class=\"dataframe\">\n",
       "  <thead>\n",
       "    <tr style=\"text-align: right;\">\n",
       "      <th></th>\n",
       "      <th>property_type</th>\n",
       "      <th>society</th>\n",
       "      <th>sector</th>\n",
       "      <th>price</th>\n",
       "      <th>price_per_sqft</th>\n",
       "      <th>area</th>\n",
       "      <th>areaWithType</th>\n",
       "      <th>bedRoom</th>\n",
       "      <th>bathroom</th>\n",
       "      <th>balcony</th>\n",
       "      <th>...</th>\n",
       "      <th>super_built_up_area</th>\n",
       "      <th>built_up_area</th>\n",
       "      <th>carpet_area</th>\n",
       "      <th>Study room</th>\n",
       "      <th>Servant room</th>\n",
       "      <th>Store room</th>\n",
       "      <th>pooja room</th>\n",
       "      <th>others</th>\n",
       "      <th>furnishing_type</th>\n",
       "      <th>luxury_score</th>\n",
       "    </tr>\n",
       "  </thead>\n",
       "  <tbody>\n",
       "    <tr>\n",
       "      <th>0</th>\n",
       "      <td>flat</td>\n",
       "      <td>maa bhagwati residency</td>\n",
       "      <td>sector 7</td>\n",
       "      <td>0.45</td>\n",
       "      <td>5000.0</td>\n",
       "      <td>900.0</td>\n",
       "      <td>Carpet area: 900 (83.61 sq.m.)</td>\n",
       "      <td>2</td>\n",
       "      <td>2</td>\n",
       "      <td>1</td>\n",
       "      <td>...</td>\n",
       "      <td>NaN</td>\n",
       "      <td>NaN</td>\n",
       "      <td>900.0</td>\n",
       "      <td>0</td>\n",
       "      <td>0</td>\n",
       "      <td>0</td>\n",
       "      <td>0</td>\n",
       "      <td>0</td>\n",
       "      <td>0</td>\n",
       "      <td>28</td>\n",
       "    </tr>\n",
       "    <tr>\n",
       "      <th>1</th>\n",
       "      <td>flat</td>\n",
       "      <td>apna enclave</td>\n",
       "      <td>sector 3</td>\n",
       "      <td>0.50</td>\n",
       "      <td>7692.0</td>\n",
       "      <td>650.0</td>\n",
       "      <td>Carpet area: 650 (60.39 sq.m.)</td>\n",
       "      <td>2</td>\n",
       "      <td>2</td>\n",
       "      <td>1</td>\n",
       "      <td>...</td>\n",
       "      <td>NaN</td>\n",
       "      <td>NaN</td>\n",
       "      <td>650.0</td>\n",
       "      <td>0</td>\n",
       "      <td>0</td>\n",
       "      <td>0</td>\n",
       "      <td>0</td>\n",
       "      <td>0</td>\n",
       "      <td>2</td>\n",
       "      <td>37</td>\n",
       "    </tr>\n",
       "    <tr>\n",
       "      <th>2</th>\n",
       "      <td>flat</td>\n",
       "      <td>tulsiani easy in homes</td>\n",
       "      <td>sohna road</td>\n",
       "      <td>0.40</td>\n",
       "      <td>6722.0</td>\n",
       "      <td>595.1</td>\n",
       "      <td>Carpet area: 595 (55.28 sq.m.)</td>\n",
       "      <td>2</td>\n",
       "      <td>2</td>\n",
       "      <td>3</td>\n",
       "      <td>...</td>\n",
       "      <td>NaN</td>\n",
       "      <td>NaN</td>\n",
       "      <td>595.0</td>\n",
       "      <td>0</td>\n",
       "      <td>0</td>\n",
       "      <td>0</td>\n",
       "      <td>0</td>\n",
       "      <td>0</td>\n",
       "      <td>0</td>\n",
       "      <td>36</td>\n",
       "    </tr>\n",
       "    <tr>\n",
       "      <th>3</th>\n",
       "      <td>flat</td>\n",
       "      <td>smart world orchard</td>\n",
       "      <td>sector 61</td>\n",
       "      <td>1.47</td>\n",
       "      <td>12250.0</td>\n",
       "      <td>1200.0</td>\n",
       "      <td>Carpet area: 1200 (111.48 sq.m.)</td>\n",
       "      <td>2</td>\n",
       "      <td>2</td>\n",
       "      <td>2</td>\n",
       "      <td>...</td>\n",
       "      <td>NaN</td>\n",
       "      <td>NaN</td>\n",
       "      <td>1200.0</td>\n",
       "      <td>1</td>\n",
       "      <td>0</td>\n",
       "      <td>0</td>\n",
       "      <td>0</td>\n",
       "      <td>0</td>\n",
       "      <td>0</td>\n",
       "      <td>76</td>\n",
       "    </tr>\n",
       "    <tr>\n",
       "      <th>4</th>\n",
       "      <td>flat</td>\n",
       "      <td>parkwood westend</td>\n",
       "      <td>sector 92</td>\n",
       "      <td>0.70</td>\n",
       "      <td>5204.0</td>\n",
       "      <td>1345.1</td>\n",
       "      <td>Super Built up area 1345(124.95 sq.m.)</td>\n",
       "      <td>2</td>\n",
       "      <td>2</td>\n",
       "      <td>3</td>\n",
       "      <td>...</td>\n",
       "      <td>1345.0</td>\n",
       "      <td>NaN</td>\n",
       "      <td>NaN</td>\n",
       "      <td>1</td>\n",
       "      <td>0</td>\n",
       "      <td>0</td>\n",
       "      <td>0</td>\n",
       "      <td>0</td>\n",
       "      <td>0</td>\n",
       "      <td>0</td>\n",
       "    </tr>\n",
       "  </tbody>\n",
       "</table>\n",
       "<p>5 rows × 23 columns</p>\n",
       "</div>"
      ],
      "text/plain": [
       "  property_type                 society      sector  price  price_per_sqft  \\\n",
       "0          flat  maa bhagwati residency    sector 7   0.45          5000.0   \n",
       "1          flat            apna enclave    sector 3   0.50          7692.0   \n",
       "2          flat  tulsiani easy in homes  sohna road   0.40          6722.0   \n",
       "3          flat     smart world orchard   sector 61   1.47         12250.0   \n",
       "4          flat        parkwood westend   sector 92   0.70          5204.0   \n",
       "\n",
       "     area                            areaWithType  bedRoom  bathroom balcony  \\\n",
       "0   900.0          Carpet area: 900 (83.61 sq.m.)        2         2       1   \n",
       "1   650.0          Carpet area: 650 (60.39 sq.m.)        2         2       1   \n",
       "2   595.1          Carpet area: 595 (55.28 sq.m.)        2         2       3   \n",
       "3  1200.0        Carpet area: 1200 (111.48 sq.m.)        2         2       2   \n",
       "4  1345.1  Super Built up area 1345(124.95 sq.m.)        2         2       3   \n",
       "\n",
       "   ...  super_built_up_area built_up_area carpet_area  Study room  \\\n",
       "0  ...                  NaN           NaN       900.0           0   \n",
       "1  ...                  NaN           NaN       650.0           0   \n",
       "2  ...                  NaN           NaN       595.0           0   \n",
       "3  ...                  NaN           NaN      1200.0           1   \n",
       "4  ...               1345.0           NaN         NaN           1   \n",
       "\n",
       "   Servant room  Store room  pooja room  others  furnishing_type  luxury_score  \n",
       "0             0           0           0       0                0            28  \n",
       "1             0           0           0       0                2            37  \n",
       "2             0           0           0       0                0            36  \n",
       "3             0           0           0       0                0            76  \n",
       "4             0           0           0       0                0             0  \n",
       "\n",
       "[5 rows x 23 columns]"
      ]
     },
     "execution_count": 86,
     "metadata": {},
     "output_type": "execute_result"
    }
   ],
   "source": [
    "df.head()"
   ]
  },
  {
   "cell_type": "code",
   "execution_count": 88,
   "id": "0807db35-7212-45a4-aa1f-e638eea2bc1f",
   "metadata": {},
   "outputs": [
    {
     "data": {
      "text/plain": [
       "(3783, 23)"
      ]
     },
     "execution_count": 88,
     "metadata": {},
     "output_type": "execute_result"
    }
   ],
   "source": [
    "df.shape"
   ]
  },
  {
   "cell_type": "code",
   "execution_count": 90,
   "id": "b2c478c1-6e42-408a-bfe1-eb9c30a64381",
   "metadata": {},
   "outputs": [
    {
     "data": {
      "text/plain": [
       "property_type             0\n",
       "society                   1\n",
       "sector                    0\n",
       "price                     1\n",
       "price_per_sqft            1\n",
       "area                      1\n",
       "areaWithType              0\n",
       "bedRoom                   0\n",
       "bathroom                  0\n",
       "balcony                   0\n",
       "floorNum                 19\n",
       "facing                  845\n",
       "agePossession             0\n",
       "super_built_up_area    1869\n",
       "built_up_area          2068\n",
       "carpet_area            1842\n",
       "Study room                0\n",
       "Servant room              0\n",
       "Store room                0\n",
       "pooja room                0\n",
       "others                    0\n",
       "furnishing_type           0\n",
       "luxury_score              0\n",
       "dtype: int64"
      ]
     },
     "execution_count": 90,
     "metadata": {},
     "output_type": "execute_result"
    }
   ],
   "source": [
    "df.isnull().sum()"
   ]
  },
  {
   "cell_type": "code",
   "execution_count": 92,
   "id": "aaac5f1f-0a33-44d5-9e52-a6806c4e7127",
   "metadata": {},
   "outputs": [
    {
     "data": {
      "text/plain": [
       "<Axes: xlabel='super_built_up_area', ylabel='built_up_area'>"
      ]
     },
     "execution_count": 92,
     "metadata": {},
     "output_type": "execute_result"
    },
    {
     "data": {
      "image/png": "[encoded data removed]",
      "text/plain": [
       "<Figure size 640x480 with 1 Axes>"
      ]
     },
     "metadata": {},
     "output_type": "display_data"
    }
   ],
   "source": [
    "sns.scatterplot(x= df['super_built_up_area'],y =df['built_up_area'])"
   ]
  },
  {
   "cell_type": "code",
   "execution_count": 94,
   "id": "26400203-18f9-452d-94b2-c52b323ed79d",
   "metadata": {},
   "outputs": [
    {
     "data": {
      "text/plain": [
       "Index(['property_type', 'society', 'sector', 'price', 'price_per_sqft', 'area',\n",
       "       'areaWithType', 'bedRoom', 'bathroom', 'balcony', 'floorNum', 'facing',\n",
       "       'agePossession', 'super_built_up_area', 'built_up_area', 'carpet_area',\n",
       "       'Study room', 'Servant room', 'Store room', 'pooja room', 'others',\n",
       "       'furnishing_type', 'luxury_score'],\n",
       "      dtype='object')"
      ]
     },
     "execution_count": 94,
     "metadata": {},
     "output_type": "execute_result"
    }
   ],
   "source": [
    "df.columns"
   ]
  },
  {
   "cell_type": "code",
   "execution_count": 96,
   "id": "fba534e2-5d8c-451a-9bb8-bffe9c67a642",
   "metadata": {},
   "outputs": [
    {
     "data": {
      "text/plain": [
       "<Axes: xlabel='carpet_area', ylabel='built_up_area'>"
      ]
     },
     "execution_count": 96,
     "metadata": {},
     "output_type": "execute_result"
    },
    {
     "data": {
      "image/png": "[encoded data removed]",
      "text/plain": [
       "<Figure size 640x480 with 1 Axes>"
      ]
     },
     "metadata": {},
     "output_type": "display_data"
    }
   ],
   "source": [
    "sns.scatterplot(x=df['carpet_area'],y=df['built_up_area'])"
   ]
  },
  {
   "cell_type": "code",
   "execution_count": 98,
   "id": "30be2c21-ffba-49f4-a8f0-f86f130339ba",
   "metadata": {},
   "outputs": [
    {
     "data": {
      "text/html": [
       "<div>\n",
       "<style scoped>\n",
       "    .dataframe tbody tr th:only-of-type {\n",
       "        vertical-align: middle;\n",
       "    }\n",
       "\n",
       "    .dataframe tbody tr th {\n",
       "        vertical-align: top;\n",
       "    }\n",
       "\n",
       "    .dataframe thead th {\n",
       "        text-align: right;\n",
       "    }\n",
       "</style>\n",
       "<table border=\"1\" class=\"dataframe\">\n",
       "  <thead>\n",
       "    <tr style=\"text-align: right;\">\n",
       "      <th></th>\n",
       "      <th>property_type</th>\n",
       "      <th>society</th>\n",
       "      <th>sector</th>\n",
       "      <th>price</th>\n",
       "      <th>price_per_sqft</th>\n",
       "      <th>area</th>\n",
       "      <th>areaWithType</th>\n",
       "      <th>bedRoom</th>\n",
       "      <th>bathroom</th>\n",
       "      <th>balcony</th>\n",
       "      <th>...</th>\n",
       "      <th>super_built_up_area</th>\n",
       "      <th>built_up_area</th>\n",
       "      <th>carpet_area</th>\n",
       "      <th>Study room</th>\n",
       "      <th>Servant room</th>\n",
       "      <th>Store room</th>\n",
       "      <th>pooja room</th>\n",
       "      <th>others</th>\n",
       "      <th>furnishing_type</th>\n",
       "      <th>luxury_score</th>\n",
       "    </tr>\n",
       "  </thead>\n",
       "  <tbody>\n",
       "  </tbody>\n",
       "</table>\n",
       "<p>0 rows × 23 columns</p>\n",
       "</div>"
      ],
      "text/plain": [
       "Empty DataFrame\n",
       "Columns: [property_type, society, sector, price, price_per_sqft, area, areaWithType, bedRoom, bathroom, balcony, floorNum, facing, agePossession, super_built_up_area, built_up_area, carpet_area, Study room, Servant room, Store room, pooja room, others, furnishing_type, luxury_score]\n",
       "Index: []\n",
       "\n",
       "[0 rows x 23 columns]"
      ]
     },
     "execution_count": 98,
     "metadata": {},
     "output_type": "execute_result"
    }
   ],
   "source": [
    "df[(df['super_built_up_area'].isnull()) &(df['built_up_area'].isnull()) & (df['carpet_area'].isnull())]"
   ]
  },
  {
   "cell_type": "markdown",
   "id": "43cbe1d4-13b7-452c-a55d-430dec24adca",
   "metadata": {},
   "source": [
    "- Observations\n",
    "- No value having all 3 areas missing  "
   ]
  },
  {
   "cell_type": "code",
   "execution_count": 101,
   "id": "8a569122-bbb9-4587-ae67-51994c9090c3",
   "metadata": {},
   "outputs": [],
   "source": [
    "all_present_df =df[~(df['super_built_up_area'].isnull() | df['carpet_area'].isnull()|df['built_up_area'].isnull())]"
   ]
  },
  {
   "cell_type": "code",
   "execution_count": 103,
   "id": "2274683d-4266-43ce-9a32-ffa5948817b0",
   "metadata": {},
   "outputs": [
    {
     "data": {
      "text/plain": [
       "(534, 23)"
      ]
     },
     "execution_count": 103,
     "metadata": {},
     "output_type": "execute_result"
    }
   ],
   "source": [
    "all_present_df.shape"
   ]
  },
  {
   "cell_type": "code",
   "execution_count": 105,
   "id": "26ea8e16-1b33-420c-a565-28d1bcb54e81",
   "metadata": {},
   "outputs": [],
   "source": [
    "sb_ratio =(all_present_df['super_built_up_area']/all_present_df['built_up_area']).median()\n",
    "c_ratio =(all_present_df['carpet_area']/all_present_df['built_up_area']).median()"
   ]
  },
  {
   "cell_type": "code",
   "execution_count": 107,
   "id": "91d4ce2c-375d-4bf7-bb1b-0b95582a7d14",
   "metadata": {},
   "outputs": [
    {
     "data": {
      "text/plain": [
       "(1.1048701298701298, 0.900140056022409)"
      ]
     },
     "execution_count": 107,
     "metadata": {},
     "output_type": "execute_result"
    }
   ],
   "source": [
    "sb_ratio ,c_ratio"
   ]
  },
  {
   "cell_type": "code",
   "execution_count": 109,
   "id": "8144cbbc-c687-4d81-8627-2972773e930f",
   "metadata": {},
   "outputs": [],
   "source": [
    "sbc_df =df[~(df['super_built_up_area'].isnull()) & ~ (df['carpet_area']).isnull() & (df['built_up_area']).isnull()]"
   ]
  },
  {
   "cell_type": "code",
   "execution_count": 111,
   "id": "e2825e50-6428-4100-839c-7d18c541d60c",
   "metadata": {},
   "outputs": [
    {
     "data": {
      "text/plain": [
       "(428, 23)"
      ]
     },
     "execution_count": 111,
     "metadata": {},
     "output_type": "execute_result"
    }
   ],
   "source": [
    "sbc_df.shape"
   ]
  },
  {
   "cell_type": "code",
   "execution_count": 113,
   "id": "e6a2a56c-54e6-4706-af54-5ee7d56cafeb",
   "metadata": {},
   "outputs": [
    {
     "name": "stderr",
     "output_type": "stream",
     "text": [
      "C:\\Users\\rajni\\AppData\\Local\\Temp\\ipykernel_6164\\1442672198.py:1: FutureWarning: A value is trying to be set on a copy of a DataFrame or Series through chained assignment using an inplace method.\n",
      "The behavior will change in pandas 3.0. This inplace method will never work because the intermediate object on which we are setting values always behaves as a copy.\n",
      "\n",
      "For example, when doing 'df[col].method(value, inplace=True)', try using 'df.method({col: value}, inplace=True)' or df[col] = df[col].method(value) instead, to perform the operation inplace on the original object.\n",
      "\n",
      "\n",
      "  sbc_df['built_up_area'].fillna(((sbc_df['super_built_up_area']*1.10 +sbc_df['carpet_area']*0.90)/2),inplace=True)\n",
      "C:\\Users\\rajni\\AppData\\Local\\Temp\\ipykernel_6164\\1442672198.py:1: SettingWithCopyWarning: \n",
      "A value is trying to be set on a copy of a slice from a DataFrame\n",
      "\n",
      "See the caveats in the documentation: https://pandas.pydata.org/pandas-docs/stable/user_guide/indexing.html#returning-a-view-versus-a-copy\n",
      "  sbc_df['built_up_area'].fillna(((sbc_df['super_built_up_area']*1.10 +sbc_df['carpet_area']*0.90)/2),inplace=True)\n"
     ]
    }
   ],
   "source": [
    "sbc_df['built_up_area'].fillna(((sbc_df['super_built_up_area']*1.10 +sbc_df['carpet_area']*0.90)/2),inplace=True)"
   ]
  },
  {
   "cell_type": "code",
   "execution_count": 115,
   "id": "5cc2a252-cdfa-4016-a56c-cef79d1c3f27",
   "metadata": {},
   "outputs": [],
   "source": [
    "df.update(sbc_df)"
   ]
  },
  {
   "cell_type": "code",
   "execution_count": 117,
   "id": "ed3ef6fe-0830-4339-bc91-6be5337ed075",
   "metadata": {},
   "outputs": [
    {
     "data": {
      "text/plain": [
       "property_type             0\n",
       "society                   1\n",
       "sector                    0\n",
       "price                     1\n",
       "price_per_sqft            1\n",
       "area                      1\n",
       "areaWithType              0\n",
       "bedRoom                   0\n",
       "bathroom                  0\n",
       "balcony                   0\n",
       "floorNum                 19\n",
       "facing                  845\n",
       "agePossession             0\n",
       "super_built_up_area    1869\n",
       "built_up_area          1640\n",
       "carpet_area            1842\n",
       "Study room                0\n",
       "Servant room              0\n",
       "Store room                0\n",
       "pooja room                0\n",
       "others                    0\n",
       "furnishing_type           0\n",
       "luxury_score              0\n",
       "dtype: int64"
      ]
     },
     "execution_count": 117,
     "metadata": {},
     "output_type": "execute_result"
    }
   ],
   "source": [
    "df.isnull().sum()"
   ]
  },
  {
   "cell_type": "code",
   "execution_count": 119,
   "id": "5c431d64-cf7f-4966-831b-2d69f2e8f0f4",
   "metadata": {},
   "outputs": [],
   "source": [
    "# Fetch the rows in which Sb is present but c & b is absent \n",
    "sb_present_df =df[~(df['super_built_up_area'].isnull()) & (df['built_up_area'].isnull()) & (df['carpet_area'].isnull())]"
   ]
  },
  {
   "cell_type": "code",
   "execution_count": 121,
   "id": "924325c1-6311-4129-b719-ddaf99d46715",
   "metadata": {},
   "outputs": [
    {
     "data": {
      "text/html": [
       "<div>\n",
       "<style scoped>\n",
       "    .dataframe tbody tr th:only-of-type {\n",
       "        vertical-align: middle;\n",
       "    }\n",
       "\n",
       "    .dataframe tbody tr th {\n",
       "        vertical-align: top;\n",
       "    }\n",
       "\n",
       "    .dataframe thead th {\n",
       "        text-align: right;\n",
       "    }\n",
       "</style>\n",
       "<table border=\"1\" class=\"dataframe\">\n",
       "  <thead>\n",
       "    <tr style=\"text-align: right;\">\n",
       "      <th></th>\n",
       "      <th>property_type</th>\n",
       "      <th>society</th>\n",
       "      <th>sector</th>\n",
       "      <th>price</th>\n",
       "      <th>price_per_sqft</th>\n",
       "      <th>area</th>\n",
       "      <th>areaWithType</th>\n",
       "      <th>bedRoom</th>\n",
       "      <th>bathroom</th>\n",
       "      <th>balcony</th>\n",
       "      <th>...</th>\n",
       "      <th>super_built_up_area</th>\n",
       "      <th>built_up_area</th>\n",
       "      <th>carpet_area</th>\n",
       "      <th>Study room</th>\n",
       "      <th>Servant room</th>\n",
       "      <th>Store room</th>\n",
       "      <th>pooja room</th>\n",
       "      <th>others</th>\n",
       "      <th>furnishing_type</th>\n",
       "      <th>luxury_score</th>\n",
       "    </tr>\n",
       "  </thead>\n",
       "  <tbody>\n",
       "    <tr>\n",
       "      <th>4</th>\n",
       "      <td>flat</td>\n",
       "      <td>parkwood westend</td>\n",
       "      <td>sector 92</td>\n",
       "      <td>0.70</td>\n",
       "      <td>5204.0</td>\n",
       "      <td>1345.1</td>\n",
       "      <td>Super Built up area 1345(124.95 sq.m.)</td>\n",
       "      <td>2</td>\n",
       "      <td>2</td>\n",
       "      <td>3</td>\n",
       "      <td>...</td>\n",
       "      <td>1345.0</td>\n",
       "      <td>NaN</td>\n",
       "      <td>NaN</td>\n",
       "      <td>1</td>\n",
       "      <td>0</td>\n",
       "      <td>0</td>\n",
       "      <td>0</td>\n",
       "      <td>0</td>\n",
       "      <td>0</td>\n",
       "      <td>0</td>\n",
       "    </tr>\n",
       "    <tr>\n",
       "      <th>6</th>\n",
       "      <td>flat</td>\n",
       "      <td>the cocoon</td>\n",
       "      <td>dwarka expressway</td>\n",
       "      <td>2.00</td>\n",
       "      <td>13333.0</td>\n",
       "      <td>1500.0</td>\n",
       "      <td>Super Built up area 1500(139.35 sq.m.)</td>\n",
       "      <td>3</td>\n",
       "      <td>3</td>\n",
       "      <td>3</td>\n",
       "      <td>...</td>\n",
       "      <td>1500.0</td>\n",
       "      <td>NaN</td>\n",
       "      <td>NaN</td>\n",
       "      <td>0</td>\n",
       "      <td>0</td>\n",
       "      <td>0</td>\n",
       "      <td>0</td>\n",
       "      <td>0</td>\n",
       "      <td>0</td>\n",
       "      <td>0</td>\n",
       "    </tr>\n",
       "    <tr>\n",
       "      <th>13</th>\n",
       "      <td>flat</td>\n",
       "      <td>godrej</td>\n",
       "      <td>sector 33</td>\n",
       "      <td>0.95</td>\n",
       "      <td>6859.0</td>\n",
       "      <td>1385.0</td>\n",
       "      <td>Super Built up area 1385(128.67 sq.m.)</td>\n",
       "      <td>2</td>\n",
       "      <td>2</td>\n",
       "      <td>3+</td>\n",
       "      <td>...</td>\n",
       "      <td>1385.0</td>\n",
       "      <td>NaN</td>\n",
       "      <td>NaN</td>\n",
       "      <td>0</td>\n",
       "      <td>0</td>\n",
       "      <td>0</td>\n",
       "      <td>0</td>\n",
       "      <td>0</td>\n",
       "      <td>0</td>\n",
       "      <td>0</td>\n",
       "    </tr>\n",
       "    <tr>\n",
       "      <th>14</th>\n",
       "      <td>flat</td>\n",
       "      <td>shree vardhman flora</td>\n",
       "      <td>sector 90</td>\n",
       "      <td>0.70</td>\n",
       "      <td>5384.0</td>\n",
       "      <td>1300.1</td>\n",
       "      <td>Super Built up area 1300(120.77 sq.m.)</td>\n",
       "      <td>2</td>\n",
       "      <td>2</td>\n",
       "      <td>3</td>\n",
       "      <td>...</td>\n",
       "      <td>1300.0</td>\n",
       "      <td>NaN</td>\n",
       "      <td>NaN</td>\n",
       "      <td>1</td>\n",
       "      <td>0</td>\n",
       "      <td>0</td>\n",
       "      <td>0</td>\n",
       "      <td>0</td>\n",
       "      <td>0</td>\n",
       "      <td>15</td>\n",
       "    </tr>\n",
       "    <tr>\n",
       "      <th>19</th>\n",
       "      <td>flat</td>\n",
       "      <td>central park flower valley</td>\n",
       "      <td>sector 33</td>\n",
       "      <td>2.20</td>\n",
       "      <td>10476.0</td>\n",
       "      <td>2100.0</td>\n",
       "      <td>Super Built up area 2100(195.1 sq.m.)</td>\n",
       "      <td>3</td>\n",
       "      <td>3</td>\n",
       "      <td>3</td>\n",
       "      <td>...</td>\n",
       "      <td>2100.0</td>\n",
       "      <td>NaN</td>\n",
       "      <td>NaN</td>\n",
       "      <td>0</td>\n",
       "      <td>1</td>\n",
       "      <td>0</td>\n",
       "      <td>0</td>\n",
       "      <td>0</td>\n",
       "      <td>2</td>\n",
       "      <td>49</td>\n",
       "    </tr>\n",
       "    <tr>\n",
       "      <th>...</th>\n",
       "      <td>...</td>\n",
       "      <td>...</td>\n",
       "      <td>...</td>\n",
       "      <td>...</td>\n",
       "      <td>...</td>\n",
       "      <td>...</td>\n",
       "      <td>...</td>\n",
       "      <td>...</td>\n",
       "      <td>...</td>\n",
       "      <td>...</td>\n",
       "      <td>...</td>\n",
       "      <td>...</td>\n",
       "      <td>...</td>\n",
       "      <td>...</td>\n",
       "      <td>...</td>\n",
       "      <td>...</td>\n",
       "      <td>...</td>\n",
       "      <td>...</td>\n",
       "      <td>...</td>\n",
       "      <td>...</td>\n",
       "      <td>...</td>\n",
       "    </tr>\n",
       "    <tr>\n",
       "      <th>2932</th>\n",
       "      <td>flat</td>\n",
       "      <td>m3m woodshire</td>\n",
       "      <td>sector 107</td>\n",
       "      <td>1.40</td>\n",
       "      <td>5929.0</td>\n",
       "      <td>2361.3</td>\n",
       "      <td>Super Built up area 2361(219.34 sq.m.)</td>\n",
       "      <td>3</td>\n",
       "      <td>4</td>\n",
       "      <td>0</td>\n",
       "      <td>...</td>\n",
       "      <td>2361.0</td>\n",
       "      <td>NaN</td>\n",
       "      <td>NaN</td>\n",
       "      <td>0</td>\n",
       "      <td>0</td>\n",
       "      <td>0</td>\n",
       "      <td>0</td>\n",
       "      <td>0</td>\n",
       "      <td>0</td>\n",
       "      <td>67</td>\n",
       "    </tr>\n",
       "    <tr>\n",
       "      <th>2933</th>\n",
       "      <td>flat</td>\n",
       "      <td>krishna appartment</td>\n",
       "      <td>sector 12</td>\n",
       "      <td>0.35</td>\n",
       "      <td>3500.0</td>\n",
       "      <td>1000.0</td>\n",
       "      <td>Super Built up area 1000(92.9 sq.m.)</td>\n",
       "      <td>3</td>\n",
       "      <td>3</td>\n",
       "      <td>1</td>\n",
       "      <td>...</td>\n",
       "      <td>1000.0</td>\n",
       "      <td>NaN</td>\n",
       "      <td>NaN</td>\n",
       "      <td>0</td>\n",
       "      <td>0</td>\n",
       "      <td>0</td>\n",
       "      <td>0</td>\n",
       "      <td>0</td>\n",
       "      <td>0</td>\n",
       "      <td>0</td>\n",
       "    </tr>\n",
       "    <tr>\n",
       "      <th>2936</th>\n",
       "      <td>flat</td>\n",
       "      <td>ansal heights 86</td>\n",
       "      <td>sector 86</td>\n",
       "      <td>1.05</td>\n",
       "      <td>5541.0</td>\n",
       "      <td>1895.0</td>\n",
       "      <td>Super Built up area 1895(176.05 sq.m.)</td>\n",
       "      <td>3</td>\n",
       "      <td>3</td>\n",
       "      <td>3</td>\n",
       "      <td>...</td>\n",
       "      <td>1895.0</td>\n",
       "      <td>NaN</td>\n",
       "      <td>NaN</td>\n",
       "      <td>0</td>\n",
       "      <td>1</td>\n",
       "      <td>0</td>\n",
       "      <td>0</td>\n",
       "      <td>0</td>\n",
       "      <td>0</td>\n",
       "      <td>0</td>\n",
       "    </tr>\n",
       "    <tr>\n",
       "      <th>2938</th>\n",
       "      <td>flat</td>\n",
       "      <td>raheja vedaanta</td>\n",
       "      <td>sector 108</td>\n",
       "      <td>0.95</td>\n",
       "      <td>5214.0</td>\n",
       "      <td>1822.0</td>\n",
       "      <td>Super Built up area 1822(169.27 sq.m.)</td>\n",
       "      <td>3</td>\n",
       "      <td>3</td>\n",
       "      <td>3</td>\n",
       "      <td>...</td>\n",
       "      <td>1822.0</td>\n",
       "      <td>NaN</td>\n",
       "      <td>NaN</td>\n",
       "      <td>0</td>\n",
       "      <td>0</td>\n",
       "      <td>0</td>\n",
       "      <td>0</td>\n",
       "      <td>1</td>\n",
       "      <td>0</td>\n",
       "      <td>95</td>\n",
       "    </tr>\n",
       "    <tr>\n",
       "      <th>2940</th>\n",
       "      <td>flat</td>\n",
       "      <td>dlf the crest</td>\n",
       "      <td>sector 54</td>\n",
       "      <td>11.00</td>\n",
       "      <td>35222.0</td>\n",
       "      <td>3123.0</td>\n",
       "      <td>Super Built up area 3123(290.14 sq.m.)</td>\n",
       "      <td>4</td>\n",
       "      <td>6</td>\n",
       "      <td>3</td>\n",
       "      <td>...</td>\n",
       "      <td>3123.0</td>\n",
       "      <td>NaN</td>\n",
       "      <td>NaN</td>\n",
       "      <td>0</td>\n",
       "      <td>1</td>\n",
       "      <td>0</td>\n",
       "      <td>0</td>\n",
       "      <td>0</td>\n",
       "      <td>1</td>\n",
       "      <td>125</td>\n",
       "    </tr>\n",
       "  </tbody>\n",
       "</table>\n",
       "<p>902 rows × 23 columns</p>\n",
       "</div>"
      ],
      "text/plain": [
       "     property_type                     society             sector  price  \\\n",
       "4             flat            parkwood westend          sector 92   0.70   \n",
       "6             flat                  the cocoon  dwarka expressway   2.00   \n",
       "13            flat                      godrej          sector 33   0.95   \n",
       "14            flat        shree vardhman flora          sector 90   0.70   \n",
       "19            flat  central park flower valley          sector 33   2.20   \n",
       "...            ...                         ...                ...    ...   \n",
       "2932          flat               m3m woodshire         sector 107   1.40   \n",
       "2933          flat          krishna appartment          sector 12   0.35   \n",
       "2936          flat            ansal heights 86          sector 86   1.05   \n",
       "2938          flat             raheja vedaanta         sector 108   0.95   \n",
       "2940          flat               dlf the crest          sector 54  11.00   \n",
       "\n",
       "      price_per_sqft    area                            areaWithType  bedRoom  \\\n",
       "4             5204.0  1345.1  Super Built up area 1345(124.95 sq.m.)        2   \n",
       "6            13333.0  1500.0  Super Built up area 1500(139.35 sq.m.)        3   \n",
       "13            6859.0  1385.0  Super Built up area 1385(128.67 sq.m.)        2   \n",
       "14            5384.0  1300.1  Super Built up area 1300(120.77 sq.m.)        2   \n",
       "19           10476.0  2100.0   Super Built up area 2100(195.1 sq.m.)        3   \n",
       "...              ...     ...                                     ...      ...   \n",
       "2932          5929.0  2361.3  Super Built up area 2361(219.34 sq.m.)        3   \n",
       "2933          3500.0  1000.0    Super Built up area 1000(92.9 sq.m.)        3   \n",
       "2936          5541.0  1895.0  Super Built up area 1895(176.05 sq.m.)        3   \n",
       "2938          5214.0  1822.0  Super Built up area 1822(169.27 sq.m.)        3   \n",
       "2940         35222.0  3123.0  Super Built up area 3123(290.14 sq.m.)        4   \n",
       "\n",
       "      bathroom balcony  ...  super_built_up_area built_up_area carpet_area  \\\n",
       "4            2       3  ...               1345.0           NaN         NaN   \n",
       "6            3       3  ...               1500.0           NaN         NaN   \n",
       "13           2      3+  ...               1385.0           NaN         NaN   \n",
       "14           2       3  ...               1300.0           NaN         NaN   \n",
       "19           3       3  ...               2100.0           NaN         NaN   \n",
       "...        ...     ...  ...                  ...           ...         ...   \n",
       "2932         4       0  ...               2361.0           NaN         NaN   \n",
       "2933         3       1  ...               1000.0           NaN         NaN   \n",
       "2936         3       3  ...               1895.0           NaN         NaN   \n",
       "2938         3       3  ...               1822.0           NaN         NaN   \n",
       "2940         6       3  ...               3123.0           NaN         NaN   \n",
       "\n",
       "      Study room  Servant room  Store room  pooja room  others  \\\n",
       "4              1             0           0           0       0   \n",
       "6              0             0           0           0       0   \n",
       "13             0             0           0           0       0   \n",
       "14             1             0           0           0       0   \n",
       "19             0             1           0           0       0   \n",
       "...          ...           ...         ...         ...     ...   \n",
       "2932           0             0           0           0       0   \n",
       "2933           0             0           0           0       0   \n",
       "2936           0             1           0           0       0   \n",
       "2938           0             0           0           0       1   \n",
       "2940           0             1           0           0       0   \n",
       "\n",
       "      furnishing_type  luxury_score  \n",
       "4                   0             0  \n",
       "6                   0             0  \n",
       "13                  0             0  \n",
       "14                  0            15  \n",
       "19                  2            49  \n",
       "...               ...           ...  \n",
       "2932                0            67  \n",
       "2933                0             0  \n",
       "2936                0             0  \n",
       "2938                0            95  \n",
       "2940                1           125  \n",
       "\n",
       "[902 rows x 23 columns]"
      ]
     },
     "execution_count": 121,
     "metadata": {},
     "output_type": "execute_result"
    }
   ],
   "source": [
    "sb_present_df"
   ]
  },
  {
   "cell_type": "code",
   "execution_count": 123,
   "id": "caf69a7f-8914-42c3-9bf8-1383c135c19b",
   "metadata": {},
   "outputs": [
    {
     "name": "stderr",
     "output_type": "stream",
     "text": [
      "C:\\Users\\rajni\\AppData\\Local\\Temp\\ipykernel_6164\\2180495341.py:1: FutureWarning: A value is trying to be set on a copy of a DataFrame or Series through chained assignment using an inplace method.\n",
      "The behavior will change in pandas 3.0. This inplace method will never work because the intermediate object on which we are setting values always behaves as a copy.\n",
      "\n",
      "For example, when doing 'df[col].method(value, inplace=True)', try using 'df.method({col: value}, inplace=True)' or df[col] = df[col].method(value) instead, to perform the operation inplace on the original object.\n",
      "\n",
      "\n",
      "  sb_present_df['built_up_area'].fillna((df['super_built_up_area']*1.10),inplace=True)\n",
      "C:\\Users\\rajni\\AppData\\Local\\Temp\\ipykernel_6164\\2180495341.py:1: SettingWithCopyWarning: \n",
      "A value is trying to be set on a copy of a slice from a DataFrame\n",
      "\n",
      "See the caveats in the documentation: https://pandas.pydata.org/pandas-docs/stable/user_guide/indexing.html#returning-a-view-versus-a-copy\n",
      "  sb_present_df['built_up_area'].fillna((df['super_built_up_area']*1.10),inplace=True)\n"
     ]
    }
   ],
   "source": [
    "sb_present_df['built_up_area'].fillna((df['super_built_up_area']*1.10),inplace=True)"
   ]
  },
  {
   "cell_type": "code",
   "execution_count": 125,
   "id": "924e6ec5-44a0-41b3-a163-c0cb9347c11e",
   "metadata": {},
   "outputs": [],
   "source": [
    "df.update(sb_present_df)"
   ]
  },
  {
   "cell_type": "code",
   "execution_count": 127,
   "id": "7aa2d550-0bc0-4491-bc4c-b60620c8eb4e",
   "metadata": {},
   "outputs": [
    {
     "data": {
      "text/plain": [
       "property_type             0\n",
       "society                   1\n",
       "sector                    0\n",
       "price                     1\n",
       "price_per_sqft            1\n",
       "area                      1\n",
       "areaWithType              0\n",
       "bedRoom                   0\n",
       "bathroom                  0\n",
       "balcony                   0\n",
       "floorNum                 19\n",
       "facing                  845\n",
       "agePossession             0\n",
       "super_built_up_area    1869\n",
       "built_up_area           738\n",
       "carpet_area            1842\n",
       "Study room                0\n",
       "Servant room              0\n",
       "Store room                0\n",
       "pooja room                0\n",
       "others                    0\n",
       "furnishing_type           0\n",
       "luxury_score              0\n",
       "dtype: int64"
      ]
     },
     "execution_count": 127,
     "metadata": {},
     "output_type": "execute_result"
    }
   ],
   "source": [
    "df.isnull().sum()"
   ]
  },
  {
   "cell_type": "code",
   "execution_count": 129,
   "id": "8094f230-ddb5-4a89-afc9-7052be2b772c",
   "metadata": {},
   "outputs": [],
   "source": [
    "# Now we will do the same with the carpet_Area\n",
    "c_present_df = df[~(df['carpet_area'].isnull()) & (df['built_up_area'].isnull()) & (df['super_built_up_area'].isnull())]"
   ]
  },
  {
   "cell_type": "code",
   "execution_count": 131,
   "id": "46ff6b4d-9142-4eff-acfc-af9eb93a9dc2",
   "metadata": {},
   "outputs": [
    {
     "data": {
      "text/plain": [
       "(738, 23)"
      ]
     },
     "execution_count": 131,
     "metadata": {},
     "output_type": "execute_result"
    }
   ],
   "source": [
    "c_present_df.shape"
   ]
  },
  {
   "cell_type": "code",
   "execution_count": 133,
   "id": "78e98580-2914-4d6d-aa35-3f7f3149d768",
   "metadata": {},
   "outputs": [
    {
     "name": "stderr",
     "output_type": "stream",
     "text": [
      "C:\\Users\\rajni\\AppData\\Local\\Temp\\ipykernel_6164\\4189955172.py:1: FutureWarning: A value is trying to be set on a copy of a DataFrame or Series through chained assignment using an inplace method.\n",
      "The behavior will change in pandas 3.0. This inplace method will never work because the intermediate object on which we are setting values always behaves as a copy.\n",
      "\n",
      "For example, when doing 'df[col].method(value, inplace=True)', try using 'df.method({col: value}, inplace=True)' or df[col] = df[col].method(value) instead, to perform the operation inplace on the original object.\n",
      "\n",
      "\n",
      "  c_present_df['built_up_area'].fillna((c_present_df['carpet_area']*0.90),inplace =True)\n",
      "C:\\Users\\rajni\\AppData\\Local\\Temp\\ipykernel_6164\\4189955172.py:1: SettingWithCopyWarning: \n",
      "A value is trying to be set on a copy of a slice from a DataFrame\n",
      "\n",
      "See the caveats in the documentation: https://pandas.pydata.org/pandas-docs/stable/user_guide/indexing.html#returning-a-view-versus-a-copy\n",
      "  c_present_df['built_up_area'].fillna((c_present_df['carpet_area']*0.90),inplace =True)\n"
     ]
    }
   ],
   "source": [
    "c_present_df['built_up_area'].fillna((c_present_df['carpet_area']*0.90),inplace =True)"
   ]
  },
  {
   "cell_type": "code",
   "execution_count": 135,
   "id": "26c887eb-84dc-4f25-b042-a735d7d86c9b",
   "metadata": {},
   "outputs": [],
   "source": [
    "df.update(c_present_df)"
   ]
  },
  {
   "cell_type": "code",
   "execution_count": 137,
   "id": "59930233-ff36-4416-bccf-8bbe6cc9e6a0",
   "metadata": {},
   "outputs": [
    {
     "data": {
      "text/plain": [
       "property_type             0\n",
       "society                   1\n",
       "sector                    0\n",
       "price                     1\n",
       "price_per_sqft            1\n",
       "area                      1\n",
       "areaWithType              0\n",
       "bedRoom                   0\n",
       "bathroom                  0\n",
       "balcony                   0\n",
       "floorNum                 19\n",
       "facing                  845\n",
       "agePossession             0\n",
       "super_built_up_area    1869\n",
       "built_up_area             0\n",
       "carpet_area            1842\n",
       "Study room                0\n",
       "Servant room              0\n",
       "Store room                0\n",
       "pooja room                0\n",
       "others                    0\n",
       "furnishing_type           0\n",
       "luxury_score              0\n",
       "dtype: int64"
      ]
     },
     "execution_count": 137,
     "metadata": {},
     "output_type": "execute_result"
    }
   ],
   "source": [
    "df.isnull().sum()"
   ]
  },
  {
   "cell_type": "code",
   "execution_count": 147,
   "id": "232c789b-8082-4b1a-8d51-afa8bc8efab1",
   "metadata": {},
   "outputs": [
    {
     "data": {
      "text/plain": [
       "<Axes: xlabel='built_up_area', ylabel='price'>"
      ]
     },
     "execution_count": 147,
     "metadata": {},
     "output_type": "execute_result"
    },
    {
     "data": {
      "image/png": "[encoded data removed]",
      "text/plain": [
       "<Figure size 640x480 with 1 Axes>"
      ]
     },
     "metadata": {},
     "output_type": "display_data"
    }
   ],
   "source": [
    "sns.scatterplot(x=df['built_up_area'],y=df['price'])"
   ]
  },
  {
   "cell_type": "code",
   "execution_count": 149,
   "id": "490f844f-8d80-48a6-bf7d-f10efe0c5bae",
   "metadata": {},
   "outputs": [],
   "source": [
    "df = df[df['built_up_area'] <= 10000]\n"
   ]
  },
  {
   "cell_type": "markdown",
   "id": "7df5f105-35a0-4ce3-88b5-d8664f6929c9",
   "metadata": {},
   "source": [
    "Observation \n",
    "  - We can see that for some value when area is less than even 2000 but it's price is in the crores that not justified\n",
    "  - So we need to handle those areas so that our data remains clean"
   ]
  },
  {
   "cell_type": "code",
   "execution_count": 152,
   "id": "c13e2ee5-9627-4852-9a23-693757b0b4da",
   "metadata": {},
   "outputs": [],
   "source": [
    "anamoly_df =df[(df['built_up_area']<2000) & (df['price']>5)][['price','area','built_up_area']]"
   ]
  },
  {
   "cell_type": "code",
   "execution_count": 154,
   "id": "fce2ac36-82bf-4c8e-9a71-86a212d1121c",
   "metadata": {},
   "outputs": [
    {
     "data": {
      "text/html": [
       "<div>\n",
       "<style scoped>\n",
       "    .dataframe tbody tr th:only-of-type {\n",
       "        vertical-align: middle;\n",
       "    }\n",
       "\n",
       "    .dataframe tbody tr th {\n",
       "        vertical-align: top;\n",
       "    }\n",
       "\n",
       "    .dataframe thead th {\n",
       "        text-align: right;\n",
       "    }\n",
       "</style>\n",
       "<table border=\"1\" class=\"dataframe\">\n",
       "  <thead>\n",
       "    <tr style=\"text-align: right;\">\n",
       "      <th></th>\n",
       "      <th>price</th>\n",
       "      <th>area</th>\n",
       "      <th>built_up_area</th>\n",
       "    </tr>\n",
       "  </thead>\n",
       "  <tbody>\n",
       "    <tr>\n",
       "      <th>3514</th>\n",
       "      <td>6.40</td>\n",
       "      <td>2700.0</td>\n",
       "      <td>366.0</td>\n",
       "    </tr>\n",
       "    <tr>\n",
       "      <th>3178</th>\n",
       "      <td>5.15</td>\n",
       "      <td>3660.0</td>\n",
       "      <td>340.0</td>\n",
       "    </tr>\n",
       "    <tr>\n",
       "      <th>3096</th>\n",
       "      <td>9.50</td>\n",
       "      <td>4071.0</td>\n",
       "      <td>500.0</td>\n",
       "    </tr>\n",
       "    <tr>\n",
       "      <th>3723</th>\n",
       "      <td>5.15</td>\n",
       "      <td>2727.0</td>\n",
       "      <td>302.0</td>\n",
       "    </tr>\n",
       "    <tr>\n",
       "      <th>3686</th>\n",
       "      <td>6.30</td>\n",
       "      <td>1800.0</td>\n",
       "      <td>1800.0</td>\n",
       "    </tr>\n",
       "  </tbody>\n",
       "</table>\n",
       "</div>"
      ],
      "text/plain": [
       "      price    area  built_up_area\n",
       "3514   6.40  2700.0          366.0\n",
       "3178   5.15  3660.0          340.0\n",
       "3096   9.50  4071.0          500.0\n",
       "3723   5.15  2727.0          302.0\n",
       "3686   6.30  1800.0         1800.0"
      ]
     },
     "execution_count": 154,
     "metadata": {},
     "output_type": "execute_result"
    }
   ],
   "source": [
    "anamoly_df.sample(5)"
   ]
  },
  {
   "cell_type": "code",
   "execution_count": null,
   "id": "fec3cc30-b80a-491e-8668-73436f4ec827",
   "metadata": {},
   "outputs": [],
   "source": []
  },
  {
   "cell_type": "code",
   "execution_count": 157,
   "id": "43d19ce3-7fa1-4ee6-94db-a75ec1a7f801",
   "metadata": {},
   "outputs": [],
   "source": [
    "\n",
    "anamoly_df['built_up_area']=anamoly_df['area']"
   ]
  },
  {
   "cell_type": "code",
   "execution_count": 159,
   "id": "48be64f0-7cd2-4565-b0c6-05640b5f52ca",
   "metadata": {},
   "outputs": [],
   "source": [
    "df.update(anamoly_df)"
   ]
  },
  {
   "cell_type": "code",
   "execution_count": 161,
   "id": "6ff69e0c-1e1d-4dcf-8427-f176416d7c53",
   "metadata": {},
   "outputs": [
    {
     "data": {
      "text/plain": [
       "<Axes: xlabel='built_up_area', ylabel='price'>"
      ]
     },
     "execution_count": 161,
     "metadata": {},
     "output_type": "execute_result"
    },
    {
     "data": {
      "image/png": "[encoded data removed]",
      "text/plain": [
       "<Figure size 640x480 with 1 Axes>"
      ]
     },
     "metadata": {},
     "output_type": "display_data"
    }
   ],
   "source": [
    "sns.scatterplot(x=df['built_up_area'],y=df['price'])"
   ]
  },
  {
   "cell_type": "code",
   "execution_count": 163,
   "id": "8905174e-db63-4392-83ae-55da408f298c",
   "metadata": {},
   "outputs": [],
   "source": [
    "# df =df[df['built_up_area']<200000]\n",
    "\n",
    "df = df[~((df['built_up_area'] < 2000) & (df['price'] > 5))]\n"
   ]
  },
  {
   "cell_type": "code",
   "execution_count": 165,
   "id": "195ca644-419b-4eae-a7f8-2a42bad4d223",
   "metadata": {},
   "outputs": [
    {
     "data": {
      "text/plain": [
       "property_type             0\n",
       "society                   1\n",
       "sector                    0\n",
       "price                     1\n",
       "price_per_sqft            1\n",
       "area                      1\n",
       "areaWithType              0\n",
       "bedRoom                   0\n",
       "bathroom                  0\n",
       "balcony                   0\n",
       "floorNum                 17\n",
       "facing                  842\n",
       "agePossession             0\n",
       "super_built_up_area    1798\n",
       "built_up_area             0\n",
       "carpet_area            1788\n",
       "Study room                0\n",
       "Servant room              0\n",
       "Store room                0\n",
       "pooja room                0\n",
       "others                    0\n",
       "furnishing_type           0\n",
       "luxury_score              0\n",
       "dtype: int64"
      ]
     },
     "execution_count": 165,
     "metadata": {},
     "output_type": "execute_result"
    }
   ],
   "source": [
    "df.isnull().sum()"
   ]
  },
  {
   "cell_type": "code",
   "execution_count": 167,
   "id": "b3211b51-fb9c-44c1-83be-6aa3a41a3e6b",
   "metadata": {},
   "outputs": [],
   "source": [
    "df.drop(columns =['area','areaWithType','super_built_up_area','carpet_area'] ,inplace=True)"
   ]
  },
  {
   "cell_type": "code",
   "execution_count": 169,
   "id": "cce8b609-d8de-4ef3-ac0f-854203e1f221",
   "metadata": {},
   "outputs": [
    {
     "data": {
      "text/plain": [
       "Index(['property_type', 'society', 'sector', 'price', 'price_per_sqft',\n",
       "       'bedRoom', 'bathroom', 'balcony', 'floorNum', 'facing', 'agePossession',\n",
       "       'built_up_area', 'Study room', 'Servant room', 'Store room',\n",
       "       'pooja room', 'others', 'furnishing_type', 'luxury_score'],\n",
       "      dtype='object')"
      ]
     },
     "execution_count": 169,
     "metadata": {},
     "output_type": "execute_result"
    }
   ],
   "source": [
    "df.columns"
   ]
  },
  {
   "cell_type": "code",
   "execution_count": 171,
   "id": "039c3f3e-6012-4c88-9cee-d4781bd43217",
   "metadata": {},
   "outputs": [],
   "source": [
    "# Floor Num \n"
   ]
  },
  {
   "cell_type": "code",
   "execution_count": 175,
   "id": "c974301e-6150-4eab-8fa1-96aea8fa67f3",
   "metadata": {},
   "outputs": [
    {
     "data": {
      "text/html": [
       "<div>\n",
       "<style scoped>\n",
       "    .dataframe tbody tr th:only-of-type {\n",
       "        vertical-align: middle;\n",
       "    }\n",
       "\n",
       "    .dataframe tbody tr th {\n",
       "        vertical-align: top;\n",
       "    }\n",
       "\n",
       "    .dataframe thead th {\n",
       "        text-align: right;\n",
       "    }\n",
       "</style>\n",
       "<table border=\"1\" class=\"dataframe\">\n",
       "  <thead>\n",
       "    <tr style=\"text-align: right;\">\n",
       "      <th></th>\n",
       "      <th>property_type</th>\n",
       "      <th>society</th>\n",
       "      <th>sector</th>\n",
       "      <th>price</th>\n",
       "      <th>price_per_sqft</th>\n",
       "      <th>bedRoom</th>\n",
       "      <th>bathroom</th>\n",
       "      <th>balcony</th>\n",
       "      <th>floorNum</th>\n",
       "      <th>facing</th>\n",
       "      <th>agePossession</th>\n",
       "      <th>built_up_area</th>\n",
       "      <th>Study room</th>\n",
       "      <th>Servant room</th>\n",
       "      <th>Store room</th>\n",
       "      <th>pooja room</th>\n",
       "      <th>others</th>\n",
       "      <th>furnishing_type</th>\n",
       "      <th>luxury_score</th>\n",
       "    </tr>\n",
       "  </thead>\n",
       "  <tbody>\n",
       "    <tr>\n",
       "      <th>172</th>\n",
       "      <td>flat</td>\n",
       "      <td>experion heartsong</td>\n",
       "      <td>dwarka expressway</td>\n",
       "      <td>1.08</td>\n",
       "      <td>6150.0</td>\n",
       "      <td>3</td>\n",
       "      <td>3</td>\n",
       "      <td>0</td>\n",
       "      <td>NaN</td>\n",
       "      <td>NaN</td>\n",
       "      <td>Under Construction</td>\n",
       "      <td>1758.0</td>\n",
       "      <td>0</td>\n",
       "      <td>0</td>\n",
       "      <td>0</td>\n",
       "      <td>0</td>\n",
       "      <td>0</td>\n",
       "      <td>0</td>\n",
       "      <td>0</td>\n",
       "    </tr>\n",
       "    <tr>\n",
       "      <th>2710</th>\n",
       "      <td>flat</td>\n",
       "      <td>NaN</td>\n",
       "      <td>sector 78</td>\n",
       "      <td>0.60</td>\n",
       "      <td>3692.0</td>\n",
       "      <td>2</td>\n",
       "      <td>2</td>\n",
       "      <td>0</td>\n",
       "      <td>NaN</td>\n",
       "      <td>NaN</td>\n",
       "      <td>Under Construction</td>\n",
       "      <td>1625.0</td>\n",
       "      <td>0</td>\n",
       "      <td>0</td>\n",
       "      <td>0</td>\n",
       "      <td>0</td>\n",
       "      <td>0</td>\n",
       "      <td>0</td>\n",
       "      <td>0</td>\n",
       "    </tr>\n",
       "    <tr>\n",
       "      <th>2962</th>\n",
       "      <td>house</td>\n",
       "      <td>vipul tatvam villa</td>\n",
       "      <td>sector 48</td>\n",
       "      <td>8.50</td>\n",
       "      <td>26235.0</td>\n",
       "      <td>4</td>\n",
       "      <td>4</td>\n",
       "      <td>2</td>\n",
       "      <td>NaN</td>\n",
       "      <td>East</td>\n",
       "      <td>Moderately Old</td>\n",
       "      <td>3240.0</td>\n",
       "      <td>0</td>\n",
       "      <td>1</td>\n",
       "      <td>1</td>\n",
       "      <td>1</td>\n",
       "      <td>0</td>\n",
       "      <td>0</td>\n",
       "      <td>88</td>\n",
       "    </tr>\n",
       "    <tr>\n",
       "      <th>2985</th>\n",
       "      <td>house</td>\n",
       "      <td>Independent</td>\n",
       "      <td>sector 2</td>\n",
       "      <td>5.60</td>\n",
       "      <td>17284.0</td>\n",
       "      <td>8</td>\n",
       "      <td>6</td>\n",
       "      <td>3</td>\n",
       "      <td>NaN</td>\n",
       "      <td>South-West</td>\n",
       "      <td>Moderately Old</td>\n",
       "      <td>3240.0</td>\n",
       "      <td>1</td>\n",
       "      <td>1</td>\n",
       "      <td>1</td>\n",
       "      <td>1</td>\n",
       "      <td>0</td>\n",
       "      <td>0</td>\n",
       "      <td>0</td>\n",
       "    </tr>\n",
       "    <tr>\n",
       "      <th>3061</th>\n",
       "      <td>house</td>\n",
       "      <td>Independent</td>\n",
       "      <td>sector 24</td>\n",
       "      <td>1.45</td>\n",
       "      <td>26852.0</td>\n",
       "      <td>3</td>\n",
       "      <td>3</td>\n",
       "      <td>1</td>\n",
       "      <td>NaN</td>\n",
       "      <td>NotAvailable</td>\n",
       "      <td>Undefined</td>\n",
       "      <td>540.0</td>\n",
       "      <td>0</td>\n",
       "      <td>0</td>\n",
       "      <td>0</td>\n",
       "      <td>0</td>\n",
       "      <td>0</td>\n",
       "      <td>0</td>\n",
       "      <td>9</td>\n",
       "    </tr>\n",
       "    <tr>\n",
       "      <th>3098</th>\n",
       "      <td>house</td>\n",
       "      <td>Independent</td>\n",
       "      <td>sector 3</td>\n",
       "      <td>1.50</td>\n",
       "      <td>10288.0</td>\n",
       "      <td>3</td>\n",
       "      <td>3</td>\n",
       "      <td>0</td>\n",
       "      <td>NaN</td>\n",
       "      <td>NotAvailable</td>\n",
       "      <td>Undefined</td>\n",
       "      <td>210.0</td>\n",
       "      <td>0</td>\n",
       "      <td>0</td>\n",
       "      <td>0</td>\n",
       "      <td>0</td>\n",
       "      <td>0</td>\n",
       "      <td>0</td>\n",
       "      <td>0</td>\n",
       "    </tr>\n",
       "    <tr>\n",
       "      <th>3113</th>\n",
       "      <td>house</td>\n",
       "      <td>Independent</td>\n",
       "      <td>sector 4</td>\n",
       "      <td>4.12</td>\n",
       "      <td>8889.0</td>\n",
       "      <td>2</td>\n",
       "      <td>1</td>\n",
       "      <td>3</td>\n",
       "      <td>NaN</td>\n",
       "      <td>NotAvailable</td>\n",
       "      <td>Moderately Old</td>\n",
       "      <td>4635.0</td>\n",
       "      <td>0</td>\n",
       "      <td>0</td>\n",
       "      <td>0</td>\n",
       "      <td>0</td>\n",
       "      <td>0</td>\n",
       "      <td>0</td>\n",
       "      <td>0</td>\n",
       "    </tr>\n",
       "    <tr>\n",
       "      <th>3167</th>\n",
       "      <td>house</td>\n",
       "      <td>Independent</td>\n",
       "      <td>sector 4</td>\n",
       "      <td>0.65</td>\n",
       "      <td>11111.0</td>\n",
       "      <td>4</td>\n",
       "      <td>2</td>\n",
       "      <td>2</td>\n",
       "      <td>NaN</td>\n",
       "      <td>NotAvailable</td>\n",
       "      <td>Moderately Old</td>\n",
       "      <td>585.0</td>\n",
       "      <td>0</td>\n",
       "      <td>0</td>\n",
       "      <td>0</td>\n",
       "      <td>0</td>\n",
       "      <td>0</td>\n",
       "      <td>0</td>\n",
       "      <td>0</td>\n",
       "    </tr>\n",
       "    <tr>\n",
       "      <th>3183</th>\n",
       "      <td>house</td>\n",
       "      <td>ansal sushant lok plots</td>\n",
       "      <td>sector 43</td>\n",
       "      <td>3.30</td>\n",
       "      <td>26570.0</td>\n",
       "      <td>1</td>\n",
       "      <td>1</td>\n",
       "      <td>0</td>\n",
       "      <td>NaN</td>\n",
       "      <td>NotAvailable</td>\n",
       "      <td>Under Construction</td>\n",
       "      <td>1242.0</td>\n",
       "      <td>0</td>\n",
       "      <td>0</td>\n",
       "      <td>0</td>\n",
       "      <td>0</td>\n",
       "      <td>0</td>\n",
       "      <td>0</td>\n",
       "      <td>0</td>\n",
       "    </tr>\n",
       "    <tr>\n",
       "      <th>3317</th>\n",
       "      <td>house</td>\n",
       "      <td>jacob pura</td>\n",
       "      <td>sector 12</td>\n",
       "      <td>0.35</td>\n",
       "      <td>9722.0</td>\n",
       "      <td>2</td>\n",
       "      <td>1</td>\n",
       "      <td>0</td>\n",
       "      <td>NaN</td>\n",
       "      <td>NotAvailable</td>\n",
       "      <td>Undefined</td>\n",
       "      <td>360.0</td>\n",
       "      <td>0</td>\n",
       "      <td>0</td>\n",
       "      <td>0</td>\n",
       "      <td>0</td>\n",
       "      <td>0</td>\n",
       "      <td>0</td>\n",
       "      <td>0</td>\n",
       "    </tr>\n",
       "    <tr>\n",
       "      <th>3344</th>\n",
       "      <td>house</td>\n",
       "      <td>Independent</td>\n",
       "      <td>sector 25</td>\n",
       "      <td>13.00</td>\n",
       "      <td>45710.0</td>\n",
       "      <td>6</td>\n",
       "      <td>8</td>\n",
       "      <td>3</td>\n",
       "      <td>NaN</td>\n",
       "      <td>NotAvailable</td>\n",
       "      <td>Relatively New</td>\n",
       "      <td>2844.0</td>\n",
       "      <td>1</td>\n",
       "      <td>1</td>\n",
       "      <td>1</td>\n",
       "      <td>1</td>\n",
       "      <td>0</td>\n",
       "      <td>1</td>\n",
       "      <td>0</td>\n",
       "    </tr>\n",
       "    <tr>\n",
       "      <th>3398</th>\n",
       "      <td>house</td>\n",
       "      <td>Independent</td>\n",
       "      <td>sector 7</td>\n",
       "      <td>6.50</td>\n",
       "      <td>15046.0</td>\n",
       "      <td>3</td>\n",
       "      <td>2</td>\n",
       "      <td>3</td>\n",
       "      <td>NaN</td>\n",
       "      <td>NotAvailable</td>\n",
       "      <td>Undefined</td>\n",
       "      <td>4320.0</td>\n",
       "      <td>0</td>\n",
       "      <td>0</td>\n",
       "      <td>0</td>\n",
       "      <td>0</td>\n",
       "      <td>0</td>\n",
       "      <td>0</td>\n",
       "      <td>9</td>\n",
       "    </tr>\n",
       "    <tr>\n",
       "      <th>3546</th>\n",
       "      <td>house</td>\n",
       "      <td>dlf new town heights</td>\n",
       "      <td>sector 86</td>\n",
       "      <td>2.47</td>\n",
       "      <td>7718.0</td>\n",
       "      <td>4</td>\n",
       "      <td>4</td>\n",
       "      <td>3</td>\n",
       "      <td>NaN</td>\n",
       "      <td>West</td>\n",
       "      <td>Moderately Old</td>\n",
       "      <td>2800.0</td>\n",
       "      <td>0</td>\n",
       "      <td>1</td>\n",
       "      <td>0</td>\n",
       "      <td>1</td>\n",
       "      <td>0</td>\n",
       "      <td>2</td>\n",
       "      <td>130</td>\n",
       "    </tr>\n",
       "    <tr>\n",
       "      <th>3564</th>\n",
       "      <td>house</td>\n",
       "      <td>vipul tatvam villa</td>\n",
       "      <td>sector 48</td>\n",
       "      <td>8.50</td>\n",
       "      <td>26235.0</td>\n",
       "      <td>4</td>\n",
       "      <td>4</td>\n",
       "      <td>1</td>\n",
       "      <td>NaN</td>\n",
       "      <td>NotAvailable</td>\n",
       "      <td>Relatively New</td>\n",
       "      <td>3240.0</td>\n",
       "      <td>0</td>\n",
       "      <td>0</td>\n",
       "      <td>0</td>\n",
       "      <td>0</td>\n",
       "      <td>0</td>\n",
       "      <td>0</td>\n",
       "      <td>21</td>\n",
       "    </tr>\n",
       "    <tr>\n",
       "      <th>3571</th>\n",
       "      <td>house</td>\n",
       "      <td>ansal sushant lok</td>\n",
       "      <td>sector 43</td>\n",
       "      <td>10.50</td>\n",
       "      <td>27911.0</td>\n",
       "      <td>4</td>\n",
       "      <td>4</td>\n",
       "      <td>2</td>\n",
       "      <td>NaN</td>\n",
       "      <td>North-East</td>\n",
       "      <td>Undefined</td>\n",
       "      <td>3762.0</td>\n",
       "      <td>0</td>\n",
       "      <td>1</td>\n",
       "      <td>0</td>\n",
       "      <td>0</td>\n",
       "      <td>0</td>\n",
       "      <td>0</td>\n",
       "      <td>59</td>\n",
       "    </tr>\n",
       "    <tr>\n",
       "      <th>3574</th>\n",
       "      <td>house</td>\n",
       "      <td>Independent</td>\n",
       "      <td>sector 26</td>\n",
       "      <td>4.60</td>\n",
       "      <td>12198.0</td>\n",
       "      <td>4</td>\n",
       "      <td>4</td>\n",
       "      <td>3</td>\n",
       "      <td>NaN</td>\n",
       "      <td>NotAvailable</td>\n",
       "      <td>Undefined</td>\n",
       "      <td>3771.0</td>\n",
       "      <td>0</td>\n",
       "      <td>0</td>\n",
       "      <td>0</td>\n",
       "      <td>0</td>\n",
       "      <td>0</td>\n",
       "      <td>0</td>\n",
       "      <td>28</td>\n",
       "    </tr>\n",
       "    <tr>\n",
       "      <th>3702</th>\n",
       "      <td>house</td>\n",
       "      <td>emaar mgf marbella</td>\n",
       "      <td>sector 66</td>\n",
       "      <td>9.00</td>\n",
       "      <td>21251.0</td>\n",
       "      <td>4</td>\n",
       "      <td>4</td>\n",
       "      <td>3</td>\n",
       "      <td>NaN</td>\n",
       "      <td>South-West</td>\n",
       "      <td>Relatively New</td>\n",
       "      <td>5200.0</td>\n",
       "      <td>0</td>\n",
       "      <td>1</td>\n",
       "      <td>1</td>\n",
       "      <td>1</td>\n",
       "      <td>0</td>\n",
       "      <td>2</td>\n",
       "      <td>114</td>\n",
       "    </tr>\n",
       "  </tbody>\n",
       "</table>\n",
       "</div>"
      ],
      "text/plain": [
       "     property_type                  society             sector  price  \\\n",
       "172           flat       experion heartsong  dwarka expressway   1.08   \n",
       "2710          flat                      NaN          sector 78   0.60   \n",
       "2962         house       vipul tatvam villa          sector 48   8.50   \n",
       "2985         house              Independent           sector 2   5.60   \n",
       "3061         house              Independent          sector 24   1.45   \n",
       "3098         house              Independent           sector 3   1.50   \n",
       "3113         house              Independent           sector 4   4.12   \n",
       "3167         house              Independent           sector 4   0.65   \n",
       "3183         house  ansal sushant lok plots          sector 43   3.30   \n",
       "3317         house               jacob pura          sector 12   0.35   \n",
       "3344         house              Independent          sector 25  13.00   \n",
       "3398         house              Independent           sector 7   6.50   \n",
       "3546         house     dlf new town heights          sector 86   2.47   \n",
       "3564         house       vipul tatvam villa          sector 48   8.50   \n",
       "3571         house        ansal sushant lok          sector 43  10.50   \n",
       "3574         house              Independent          sector 26   4.60   \n",
       "3702         house       emaar mgf marbella          sector 66   9.00   \n",
       "\n",
       "      price_per_sqft  bedRoom  bathroom balcony  floorNum        facing  \\\n",
       "172           6150.0        3         3       0       NaN           NaN   \n",
       "2710          3692.0        2         2       0       NaN           NaN   \n",
       "2962         26235.0        4         4       2       NaN          East   \n",
       "2985         17284.0        8         6       3       NaN    South-West   \n",
       "3061         26852.0        3         3       1       NaN  NotAvailable   \n",
       "3098         10288.0        3         3       0       NaN  NotAvailable   \n",
       "3113          8889.0        2         1       3       NaN  NotAvailable   \n",
       "3167         11111.0        4         2       2       NaN  NotAvailable   \n",
       "3183         26570.0        1         1       0       NaN  NotAvailable   \n",
       "3317          9722.0        2         1       0       NaN  NotAvailable   \n",
       "3344         45710.0        6         8       3       NaN  NotAvailable   \n",
       "3398         15046.0        3         2       3       NaN  NotAvailable   \n",
       "3546          7718.0        4         4       3       NaN          West   \n",
       "3564         26235.0        4         4       1       NaN  NotAvailable   \n",
       "3571         27911.0        4         4       2       NaN    North-East   \n",
       "3574         12198.0        4         4       3       NaN  NotAvailable   \n",
       "3702         21251.0        4         4       3       NaN    South-West   \n",
       "\n",
       "           agePossession  built_up_area  Study room  Servant room  Store room  \\\n",
       "172   Under Construction         1758.0           0             0           0   \n",
       "2710  Under Construction         1625.0           0             0           0   \n",
       "2962      Moderately Old         3240.0           0             1           1   \n",
       "2985      Moderately Old         3240.0           1             1           1   \n",
       "3061           Undefined          540.0           0             0           0   \n",
       "3098           Undefined          210.0           0             0           0   \n",
       "3113      Moderately Old         4635.0           0             0           0   \n",
       "3167      Moderately Old          585.0           0             0           0   \n",
       "3183  Under Construction         1242.0           0             0           0   \n",
       "3317           Undefined          360.0           0             0           0   \n",
       "3344      Relatively New         2844.0           1             1           1   \n",
       "3398           Undefined         4320.0           0             0           0   \n",
       "3546      Moderately Old         2800.0           0             1           0   \n",
       "3564      Relatively New         3240.0           0             0           0   \n",
       "3571           Undefined         3762.0           0             1           0   \n",
       "3574           Undefined         3771.0           0             0           0   \n",
       "3702      Relatively New         5200.0           0             1           1   \n",
       "\n",
       "      pooja room  others  furnishing_type  luxury_score  \n",
       "172            0       0                0             0  \n",
       "2710           0       0                0             0  \n",
       "2962           1       0                0            88  \n",
       "2985           1       0                0             0  \n",
       "3061           0       0                0             9  \n",
       "3098           0       0                0             0  \n",
       "3113           0       0                0             0  \n",
       "3167           0       0                0             0  \n",
       "3183           0       0                0             0  \n",
       "3317           0       0                0             0  \n",
       "3344           1       0                1             0  \n",
       "3398           0       0                0             9  \n",
       "3546           1       0                2           130  \n",
       "3564           0       0                0            21  \n",
       "3571           0       0                0            59  \n",
       "3574           0       0                0            28  \n",
       "3702           1       0                2           114  "
      ]
     },
     "execution_count": 175,
     "metadata": {},
     "output_type": "execute_result"
    }
   ],
   "source": [
    "df[df['floorNum'].isnull()]"
   ]
  },
  {
   "cell_type": "code",
   "execution_count": 177,
   "id": "542fa7dd-e0d3-44c4-8adc-de60e1ca1058",
   "metadata": {},
   "outputs": [
    {
     "data": {
      "text/plain": [
       "3.0"
      ]
     },
     "execution_count": 177,
     "metadata": {},
     "output_type": "execute_result"
    }
   ],
   "source": [
    "df[df['property_type']=='house']['floorNum'].median()"
   ]
  },
  {
   "cell_type": "code",
   "execution_count": 179,
   "id": "fd8540e1-3581-4de2-9eb1-2217b9d4ab46",
   "metadata": {},
   "outputs": [],
   "source": [
    "df['floorNum'].fillna(2.0,inplace=True)"
   ]
  },
  {
   "cell_type": "code",
   "execution_count": 181,
   "id": "dd1f1a1e-dd56-4538-aa5f-d405501dd486",
   "metadata": {},
   "outputs": [
    {
     "data": {
      "text/plain": [
       "property_type        0\n",
       "society              1\n",
       "sector               0\n",
       "price                1\n",
       "price_per_sqft       1\n",
       "bedRoom              0\n",
       "bathroom             0\n",
       "balcony              0\n",
       "floorNum             0\n",
       "facing             842\n",
       "agePossession        0\n",
       "built_up_area        0\n",
       "Study room           0\n",
       "Servant room         0\n",
       "Store room           0\n",
       "pooja room           0\n",
       "others               0\n",
       "furnishing_type      0\n",
       "luxury_score         0\n",
       "dtype: int64"
      ]
     },
     "execution_count": 181,
     "metadata": {},
     "output_type": "execute_result"
    }
   ],
   "source": [
    "df.isnull().sum()"
   ]
  },
  {
   "cell_type": "markdown",
   "id": "e1ec3195-6f67-4ecc-916b-3f609ac50288",
   "metadata": {},
   "source": [
    "# Facing "
   ]
  },
  {
   "cell_type": "code",
   "execution_count": 183,
   "id": "2ac0d5d3-7454-493a-8d32-bfe172d2cf0d",
   "metadata": {},
   "outputs": [
    {
     "data": {
      "text/plain": [
       "<Axes: ylabel='count'>"
      ]
     },
     "execution_count": 183,
     "metadata": {},
     "output_type": "execute_result"
    },
    {
     "data": {
      "image/png": "[encoded data removed]",
      "text/plain": [
       "<Figure size 640x480 with 1 Axes>"
      ]
     },
     "metadata": {},
     "output_type": "display_data"
    }
   ],
   "source": [
    "df['facing'].value_counts().plot(kind='pie',autopct='%0.2f%%')"
   ]
  },
  {
   "cell_type": "code",
   "execution_count": 186,
   "id": "ff6b9f38-7429-4a39-8bec-2cd271390a54",
   "metadata": {},
   "outputs": [],
   "source": [
    "df.drop(columns=['facing'],inplace=True)"
   ]
  },
  {
   "cell_type": "code",
   "execution_count": 188,
   "id": "cf5f9072-612f-4b98-8779-619d220575f6",
   "metadata": {},
   "outputs": [
    {
     "data": {
      "text/plain": [
       "property_type      0\n",
       "society            1\n",
       "sector             0\n",
       "price              1\n",
       "price_per_sqft     1\n",
       "bedRoom            0\n",
       "bathroom           0\n",
       "balcony            0\n",
       "floorNum           0\n",
       "agePossession      0\n",
       "built_up_area      0\n",
       "Study room         0\n",
       "Servant room       0\n",
       "Store room         0\n",
       "pooja room         0\n",
       "others             0\n",
       "furnishing_type    0\n",
       "luxury_score       0\n",
       "dtype: int64"
      ]
     },
     "execution_count": 188,
     "metadata": {},
     "output_type": "execute_result"
    }
   ],
   "source": [
    "df.isnull().sum()"
   ]
  },
  {
   "cell_type": "code",
   "execution_count": 190,
   "id": "a3dd8984-aa65-4113-8eef-bb4d6e587997",
   "metadata": {},
   "outputs": [
    {
     "data": {
      "text/html": [
       "<div>\n",
       "<style scoped>\n",
       "    .dataframe tbody tr th:only-of-type {\n",
       "        vertical-align: middle;\n",
       "    }\n",
       "\n",
       "    .dataframe tbody tr th {\n",
       "        vertical-align: top;\n",
       "    }\n",
       "\n",
       "    .dataframe thead th {\n",
       "        text-align: right;\n",
       "    }\n",
       "</style>\n",
       "<table border=\"1\" class=\"dataframe\">\n",
       "  <thead>\n",
       "    <tr style=\"text-align: right;\">\n",
       "      <th></th>\n",
       "      <th>property_type</th>\n",
       "      <th>society</th>\n",
       "      <th>sector</th>\n",
       "      <th>price</th>\n",
       "      <th>price_per_sqft</th>\n",
       "      <th>bedRoom</th>\n",
       "      <th>bathroom</th>\n",
       "      <th>balcony</th>\n",
       "      <th>floorNum</th>\n",
       "      <th>agePossession</th>\n",
       "      <th>built_up_area</th>\n",
       "      <th>Study room</th>\n",
       "      <th>Servant room</th>\n",
       "      <th>Store room</th>\n",
       "      <th>pooja room</th>\n",
       "      <th>others</th>\n",
       "      <th>furnishing_type</th>\n",
       "      <th>luxury_score</th>\n",
       "    </tr>\n",
       "  </thead>\n",
       "  <tbody>\n",
       "    <tr>\n",
       "      <th>2710</th>\n",
       "      <td>flat</td>\n",
       "      <td>NaN</td>\n",
       "      <td>sector 78</td>\n",
       "      <td>0.6</td>\n",
       "      <td>3692.0</td>\n",
       "      <td>2</td>\n",
       "      <td>2</td>\n",
       "      <td>0</td>\n",
       "      <td>2.0</td>\n",
       "      <td>Under Construction</td>\n",
       "      <td>1625.0</td>\n",
       "      <td>0</td>\n",
       "      <td>0</td>\n",
       "      <td>0</td>\n",
       "      <td>0</td>\n",
       "      <td>0</td>\n",
       "      <td>0</td>\n",
       "      <td>0</td>\n",
       "    </tr>\n",
       "  </tbody>\n",
       "</table>\n",
       "</div>"
      ],
      "text/plain": [
       "     property_type society     sector  price  price_per_sqft  bedRoom  \\\n",
       "2710          flat     NaN  sector 78    0.6          3692.0        2   \n",
       "\n",
       "      bathroom balcony  floorNum       agePossession  built_up_area  \\\n",
       "2710         2       0       2.0  Under Construction         1625.0   \n",
       "\n",
       "      Study room  Servant room  Store room  pooja room  others  \\\n",
       "2710           0             0           0           0       0   \n",
       "\n",
       "      furnishing_type  luxury_score  \n",
       "2710                0             0  "
      ]
     },
     "execution_count": 190,
     "metadata": {},
     "output_type": "execute_result"
    }
   ],
   "source": [
    "df[df['society'].isnull()]"
   ]
  },
  {
   "cell_type": "code",
   "execution_count": 192,
   "id": "9d65e108-e9c2-498d-995e-5f662dcd7376",
   "metadata": {},
   "outputs": [],
   "source": [
    "df.drop(index=[2710],inplace=True)"
   ]
  },
  {
   "cell_type": "code",
   "execution_count": 194,
   "id": "15984cc3-a2cd-47d4-bad6-cc2360406c90",
   "metadata": {},
   "outputs": [
    {
     "data": {
      "text/plain": [
       "property_type      0\n",
       "society            0\n",
       "sector             0\n",
       "price              1\n",
       "price_per_sqft     1\n",
       "bedRoom            0\n",
       "bathroom           0\n",
       "balcony            0\n",
       "floorNum           0\n",
       "agePossession      0\n",
       "built_up_area      0\n",
       "Study room         0\n",
       "Servant room       0\n",
       "Store room         0\n",
       "pooja room         0\n",
       "others             0\n",
       "furnishing_type    0\n",
       "luxury_score       0\n",
       "dtype: int64"
      ]
     },
     "execution_count": 194,
     "metadata": {},
     "output_type": "execute_result"
    }
   ],
   "source": [
    "df.isnull().sum()"
   ]
  },
  {
   "cell_type": "code",
   "execution_count": 196,
   "id": "89bcfbcd-1d99-430a-b82e-2442c8a3895f",
   "metadata": {},
   "outputs": [
    {
     "data": {
      "text/html": [
       "<div>\n",
       "<style scoped>\n",
       "    .dataframe tbody tr th:only-of-type {\n",
       "        vertical-align: middle;\n",
       "    }\n",
       "\n",
       "    .dataframe tbody tr th {\n",
       "        vertical-align: top;\n",
       "    }\n",
       "\n",
       "    .dataframe thead th {\n",
       "        text-align: right;\n",
       "    }\n",
       "</style>\n",
       "<table border=\"1\" class=\"dataframe\">\n",
       "  <thead>\n",
       "    <tr style=\"text-align: right;\">\n",
       "      <th></th>\n",
       "      <th>property_type</th>\n",
       "      <th>society</th>\n",
       "      <th>sector</th>\n",
       "      <th>price</th>\n",
       "      <th>price_per_sqft</th>\n",
       "      <th>bedRoom</th>\n",
       "      <th>bathroom</th>\n",
       "      <th>balcony</th>\n",
       "      <th>floorNum</th>\n",
       "      <th>agePossession</th>\n",
       "      <th>built_up_area</th>\n",
       "      <th>Study room</th>\n",
       "      <th>Servant room</th>\n",
       "      <th>Store room</th>\n",
       "      <th>pooja room</th>\n",
       "      <th>others</th>\n",
       "      <th>furnishing_type</th>\n",
       "      <th>luxury_score</th>\n",
       "    </tr>\n",
       "  </thead>\n",
       "  <tbody>\n",
       "    <tr>\n",
       "      <th>18</th>\n",
       "      <td>flat</td>\n",
       "      <td>signature global orchard avenue 2</td>\n",
       "      <td>sector 93</td>\n",
       "      <td>NaN</td>\n",
       "      <td>NaN</td>\n",
       "      <td>2</td>\n",
       "      <td>2</td>\n",
       "      <td>3</td>\n",
       "      <td>11.0</td>\n",
       "      <td>Under Construction</td>\n",
       "      <td>519.444286</td>\n",
       "      <td>0</td>\n",
       "      <td>0</td>\n",
       "      <td>0</td>\n",
       "      <td>0</td>\n",
       "      <td>0</td>\n",
       "      <td>0</td>\n",
       "      <td>104</td>\n",
       "    </tr>\n",
       "  </tbody>\n",
       "</table>\n",
       "</div>"
      ],
      "text/plain": [
       "   property_type                            society     sector  price  \\\n",
       "18          flat  signature global orchard avenue 2  sector 93    NaN   \n",
       "\n",
       "    price_per_sqft  bedRoom  bathroom balcony  floorNum       agePossession  \\\n",
       "18             NaN        2         2       3      11.0  Under Construction   \n",
       "\n",
       "    built_up_area  Study room  Servant room  Store room  pooja room  others  \\\n",
       "18     519.444286           0             0           0           0       0   \n",
       "\n",
       "    furnishing_type  luxury_score  \n",
       "18                0           104  "
      ]
     },
     "execution_count": 196,
     "metadata": {},
     "output_type": "execute_result"
    }
   ],
   "source": [
    "df[df['price'].isnull()]"
   ]
  },
  {
   "cell_type": "code",
   "execution_count": 198,
   "id": "0d9b0ad5-c28e-4374-aa6d-01439336f7a0",
   "metadata": {},
   "outputs": [],
   "source": [
    "df.drop(index=[18],inplace =True)"
   ]
  },
  {
   "cell_type": "code",
   "execution_count": 200,
   "id": "d55c8f3a-2b45-4e9c-be7d-b8b5fa232932",
   "metadata": {},
   "outputs": [
    {
     "data": {
      "text/html": [
       "<div>\n",
       "<style scoped>\n",
       "    .dataframe tbody tr th:only-of-type {\n",
       "        vertical-align: middle;\n",
       "    }\n",
       "\n",
       "    .dataframe tbody tr th {\n",
       "        vertical-align: top;\n",
       "    }\n",
       "\n",
       "    .dataframe thead th {\n",
       "        text-align: right;\n",
       "    }\n",
       "</style>\n",
       "<table border=\"1\" class=\"dataframe\">\n",
       "  <thead>\n",
       "    <tr style=\"text-align: right;\">\n",
       "      <th></th>\n",
       "      <th>property_type</th>\n",
       "      <th>society</th>\n",
       "      <th>sector</th>\n",
       "      <th>price</th>\n",
       "      <th>price_per_sqft</th>\n",
       "      <th>bedRoom</th>\n",
       "      <th>bathroom</th>\n",
       "      <th>balcony</th>\n",
       "      <th>floorNum</th>\n",
       "      <th>agePossession</th>\n",
       "      <th>built_up_area</th>\n",
       "      <th>Study room</th>\n",
       "      <th>Servant room</th>\n",
       "      <th>Store room</th>\n",
       "      <th>pooja room</th>\n",
       "      <th>others</th>\n",
       "      <th>furnishing_type</th>\n",
       "      <th>luxury_score</th>\n",
       "    </tr>\n",
       "  </thead>\n",
       "  <tbody>\n",
       "  </tbody>\n",
       "</table>\n",
       "</div>"
      ],
      "text/plain": [
       "Empty DataFrame\n",
       "Columns: [property_type, society, sector, price, price_per_sqft, bedRoom, bathroom, balcony, floorNum, agePossession, built_up_area, Study room, Servant room, Store room, pooja room, others, furnishing_type, luxury_score]\n",
       "Index: []"
      ]
     },
     "execution_count": 200,
     "metadata": {},
     "output_type": "execute_result"
    }
   ],
   "source": [
    "df[df['price_per_sqft'].isnull()]"
   ]
  },
  {
   "cell_type": "code",
   "execution_count": 202,
   "id": "8c0b1608-f44a-448a-9dc9-fa2a542d35de",
   "metadata": {},
   "outputs": [
    {
     "data": {
      "text/plain": [
       "property_type      0\n",
       "society            0\n",
       "sector             0\n",
       "price              0\n",
       "price_per_sqft     0\n",
       "bedRoom            0\n",
       "bathroom           0\n",
       "balcony            0\n",
       "floorNum           0\n",
       "agePossession      0\n",
       "built_up_area      0\n",
       "Study room         0\n",
       "Servant room       0\n",
       "Store room         0\n",
       "pooja room         0\n",
       "others             0\n",
       "furnishing_type    0\n",
       "luxury_score       0\n",
       "dtype: int64"
      ]
     },
     "execution_count": 202,
     "metadata": {},
     "output_type": "execute_result"
    }
   ],
   "source": [
    "df.isnull().sum()"
   ]
  },
  {
   "cell_type": "markdown",
   "id": "6383a94d-b71b-4e8b-9bb6-b7975a7c33f8",
   "metadata": {},
   "source": [
    "# Observations \n",
    "- All the missing value has been filled either using median or mean \n",
    "- Now we will explore the agePossession column bcz in that we have a value as undefined "
   ]
  },
  {
   "cell_type": "code",
   "execution_count": 207,
   "id": "6ed7a915-fb50-4a1b-ac1e-cb43add2d141",
   "metadata": {},
   "outputs": [
    {
     "data": {
      "text/plain": [
       "agePossession\n",
       "Relatively New        1646\n",
       "Undefined             1284\n",
       "Moderately Old         554\n",
       "Under Construction     129\n",
       "New Property            96\n",
       "Name: count, dtype: int64"
      ]
     },
     "execution_count": 207,
     "metadata": {},
     "output_type": "execute_result"
    }
   ],
   "source": [
    "df['agePossession'].value_counts()"
   ]
  },
  {
   "cell_type": "markdown",
   "id": "b45a2150-e4ee-4808-9e9b-e3a275f86c58",
   "metadata": {},
   "source": [
    "Observations \n",
    "- We are having a lot of values as the undefined how we can handle this\n",
    "- We know that there are sectors which are old as well as there are sector which are new so based on this we can fill these undefined values by looking at the sector as well as the property_type\n",
    "- Bcz during our EDA we have explored that the old sectors are mostly having houses and new are having the flats so we will fill based on the property_type"
   ]
  },
  {
   "cell_type": "markdown",
   "id": "e74e8a30-7c9b-4244-ae14-64e0b86cb59c",
   "metadata": {},
   "source": [
    "# Observations \n",
    "- We still have a lot of missing value now we need to handle them also "
   ]
  },
  {
   "cell_type": "code",
   "execution_count": 300,
   "id": "5b723d0c-fcc9-4d78-8d6a-1c41d8e3f791",
   "metadata": {},
   "outputs": [],
   "source": [
    "# Missing Value imputation using mode for the agePossession that are undefined \n",
    "\n",
    "def missing_value_imputation(row):\n",
    "    if row['agePossession']==\"Undefined\":\n",
    "        mode =df[(df['sector']==row['sector']) & (df['property_type']==row['property_type']) ]['agePossession'].mode()\n",
    "        # if mode_value is empty (no mode found), return NaN,otherwise return the mode\n",
    "        if not mode.empty:\n",
    "            return mode.iloc[0]\n",
    "        else:\n",
    "            return np.nan\n",
    "    else:\n",
    "        return row['agePossession']\n",
    "            "
   ]
  },
  {
   "cell_type": "code",
   "execution_count": 302,
   "id": "81e2f085-fa21-4035-803f-bfd9d4cad710",
   "metadata": {},
   "outputs": [],
   "source": [
    "# Filling Based on the Sector \n",
    "def missing_value_based_on_sector(row):\n",
    "    if row['agePossession']=='Undefined':\n",
    "        mode_value =df[(df['sector']==row['sector'])]['agePossession'].mode()\n",
    "        if not mode_value.empty:\n",
    "            return mode_value.iloc[0]\n",
    "        else:\n",
    "            return np.nan\n",
    "    else:\n",
    "        return row['agePossession']"
   ]
  },
  {
   "cell_type": "code",
   "execution_count": 310,
   "id": "b5dd2774-20c2-4b03-a37d-2663e978d881",
   "metadata": {},
   "outputs": [],
   "source": [
    "# Filling based on the Property_type\n",
    "def missing_value_based_on_property_type(row):\n",
    "    if row['agePossession']=='Undefined':\n",
    "        mode_value =df[(df['property_type']==row['property_type'])]['agePossession'].mode()\n",
    "        if not mode_value.empty:\n",
    "            return mode_value.iloc[0]\n",
    "        else:\n",
    "            return np.nan\n",
    "    else:\n",
    "        return row['agePossession']"
   ]
  },
  {
   "cell_type": "code",
   "execution_count": 312,
   "id": "ed443c13-3074-47ae-ad95-2c905c81ee0c",
   "metadata": {},
   "outputs": [],
   "source": [
    "df['agePossession']=df.apply(missing_value_imputation,axis=1)"
   ]
  },
  {
   "cell_type": "code",
   "execution_count": 305,
   "id": "9e6b321d-a011-434e-a500-dbca0b206ad0",
   "metadata": {},
   "outputs": [],
   "source": [
    "df['agePossession'] =df.apply(missing_value_based_on_sector,axis =1)"
   ]
  },
  {
   "cell_type": "code",
   "execution_count": 314,
   "id": "0b4864fa-4378-41dd-80e0-dca2ac67fa5d",
   "metadata": {},
   "outputs": [],
   "source": [
    "df['agePossession'] =df.apply(missing_value_based_on_property_type,axis=1)"
   ]
  },
  {
   "cell_type": "code",
   "execution_count": 315,
   "id": "d4f8be30-a177-4d44-be9f-13cf37eb31f3",
   "metadata": {},
   "outputs": [
    {
     "data": {
      "text/plain": [
       "agePossession\n",
       "Relatively New        2524\n",
       "Moderately Old         942\n",
       "Under Construction     132\n",
       "New Property           111\n",
       "Name: count, dtype: int64"
      ]
     },
     "execution_count": 315,
     "metadata": {},
     "output_type": "execute_result"
    }
   ],
   "source": [
    "df['agePossession'].value_counts()"
   ]
  },
  {
   "cell_type": "code",
   "execution_count": 318,
   "id": "6f4308cd-6291-4587-8a33-852fdda1887b",
   "metadata": {},
   "outputs": [
    {
     "data": {
      "text/plain": [
       "property_type      0\n",
       "society            0\n",
       "sector             0\n",
       "price              0\n",
       "price_per_sqft     0\n",
       "bedRoom            0\n",
       "bathroom           0\n",
       "balcony            0\n",
       "floorNum           0\n",
       "agePossession      0\n",
       "built_up_area      0\n",
       "Study room         0\n",
       "Servant room       0\n",
       "Store room         0\n",
       "pooja room         0\n",
       "others             0\n",
       "furnishing_type    0\n",
       "luxury_score       0\n",
       "dtype: int64"
      ]
     },
     "execution_count": 318,
     "metadata": {},
     "output_type": "execute_result"
    }
   ],
   "source": [
    "df.isnull().sum()"
   ]
  },
  {
   "cell_type": "code",
   "execution_count": 320,
   "id": "01f604a4-2eb0-4251-a887-70432b43033c",
   "metadata": {},
   "outputs": [],
   "source": [
    "df.to_csv('gurgoan_properties_missing_value_imputation.csv',index=False)"
   ]
  },
  {
   "cell_type": "code",
   "execution_count": 322,
   "id": "2dd5cdc1-103f-4bd3-a9e4-0e2ff94acb79",
   "metadata": {},
   "outputs": [
    {
     "data": {
      "text/plain": [
       "(3709, 18)"
      ]
     },
     "execution_count": 322,
     "metadata": {},
     "output_type": "execute_result"
    }
   ],
   "source": [
    "df.shape"
   ]
  },
  {
   "cell_type": "code",
   "execution_count": null,
   "id": "af241073-2d09-4056-9684-57c1c57cbccd",
   "metadata": {},
   "outputs": [],
   "source": []
  }
 ],
 "metadata": {
  "kernelspec": {
   "display_name": "Python 3 (ipykernel)",
   "language": "python",
   "name": "python3"
  },
  "language_info": {
   "codemirror_mode": {
    "name": "ipython",
    "version": 3
   },
   "file_extension": ".py",
   "mimetype": "text/x-python",
   "name": "python",
   "nbconvert_exporter": "python",
   "pygments_lexer": "ipython3",
   "version": "3.12.7"
  }
 },
 "nbformat": 4,
 "nbformat_minor": 5
}
